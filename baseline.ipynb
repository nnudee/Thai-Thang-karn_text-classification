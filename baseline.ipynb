{
 "cells": [
  {
   "cell_type": "code",
   "execution_count": 4,
   "id": "01d9ae14",
   "metadata": {},
   "outputs": [
    {
     "name": "stdout",
     "output_type": "stream",
     "text": [
      "Requirement already satisfied: datasets in /opt/anaconda3/envs/tensor_hourse/lib/python3.13/site-packages (3.6.0)\n",
      "Requirement already satisfied: filelock in /opt/anaconda3/envs/tensor_hourse/lib/python3.13/site-packages (from datasets) (3.18.0)\n",
      "Requirement already satisfied: numpy>=1.17 in /opt/anaconda3/envs/tensor_hourse/lib/python3.13/site-packages (from datasets) (2.2.6)\n",
      "Requirement already satisfied: pyarrow>=15.0.0 in /opt/anaconda3/envs/tensor_hourse/lib/python3.13/site-packages (from datasets) (20.0.0)\n",
      "Requirement already satisfied: dill<0.3.9,>=0.3.0 in /opt/anaconda3/envs/tensor_hourse/lib/python3.13/site-packages (from datasets) (0.3.8)\n",
      "Requirement already satisfied: pandas in /opt/anaconda3/envs/tensor_hourse/lib/python3.13/site-packages (from datasets) (2.3.0)\n",
      "Requirement already satisfied: requests>=2.32.2 in /opt/anaconda3/envs/tensor_hourse/lib/python3.13/site-packages (from datasets) (2.32.3)\n",
      "Requirement already satisfied: tqdm>=4.66.3 in /opt/anaconda3/envs/tensor_hourse/lib/python3.13/site-packages (from datasets) (4.67.1)\n",
      "Requirement already satisfied: xxhash in /opt/anaconda3/envs/tensor_hourse/lib/python3.13/site-packages (from datasets) (3.5.0)\n",
      "Requirement already satisfied: multiprocess<0.70.17 in /opt/anaconda3/envs/tensor_hourse/lib/python3.13/site-packages (from datasets) (0.70.16)\n",
      "Requirement already satisfied: fsspec<=2025.3.0,>=2023.1.0 in /opt/anaconda3/envs/tensor_hourse/lib/python3.13/site-packages (from fsspec[http]<=2025.3.0,>=2023.1.0->datasets) (2025.3.0)\n",
      "Requirement already satisfied: huggingface-hub>=0.24.0 in /opt/anaconda3/envs/tensor_hourse/lib/python3.13/site-packages (from datasets) (0.32.4)\n",
      "Requirement already satisfied: packaging in /opt/anaconda3/envs/tensor_hourse/lib/python3.13/site-packages (from datasets) (25.0)\n",
      "Requirement already satisfied: pyyaml>=5.1 in /opt/anaconda3/envs/tensor_hourse/lib/python3.13/site-packages (from datasets) (6.0.2)\n",
      "Requirement already satisfied: aiohttp!=4.0.0a0,!=4.0.0a1 in /opt/anaconda3/envs/tensor_hourse/lib/python3.13/site-packages (from fsspec[http]<=2025.3.0,>=2023.1.0->datasets) (3.12.9)\n",
      "Requirement already satisfied: aiohappyeyeballs>=2.5.0 in /opt/anaconda3/envs/tensor_hourse/lib/python3.13/site-packages (from aiohttp!=4.0.0a0,!=4.0.0a1->fsspec[http]<=2025.3.0,>=2023.1.0->datasets) (2.6.1)\n",
      "Requirement already satisfied: aiosignal>=1.1.2 in /opt/anaconda3/envs/tensor_hourse/lib/python3.13/site-packages (from aiohttp!=4.0.0a0,!=4.0.0a1->fsspec[http]<=2025.3.0,>=2023.1.0->datasets) (1.3.2)\n",
      "Requirement already satisfied: attrs>=17.3.0 in /opt/anaconda3/envs/tensor_hourse/lib/python3.13/site-packages (from aiohttp!=4.0.0a0,!=4.0.0a1->fsspec[http]<=2025.3.0,>=2023.1.0->datasets) (25.3.0)\n",
      "Requirement already satisfied: frozenlist>=1.1.1 in /opt/anaconda3/envs/tensor_hourse/lib/python3.13/site-packages (from aiohttp!=4.0.0a0,!=4.0.0a1->fsspec[http]<=2025.3.0,>=2023.1.0->datasets) (1.6.2)\n",
      "Requirement already satisfied: multidict<7.0,>=4.5 in /opt/anaconda3/envs/tensor_hourse/lib/python3.13/site-packages (from aiohttp!=4.0.0a0,!=4.0.0a1->fsspec[http]<=2025.3.0,>=2023.1.0->datasets) (6.4.4)\n",
      "Requirement already satisfied: propcache>=0.2.0 in /opt/anaconda3/envs/tensor_hourse/lib/python3.13/site-packages (from aiohttp!=4.0.0a0,!=4.0.0a1->fsspec[http]<=2025.3.0,>=2023.1.0->datasets) (0.3.1)\n",
      "Requirement already satisfied: yarl<2.0,>=1.17.0 in /opt/anaconda3/envs/tensor_hourse/lib/python3.13/site-packages (from aiohttp!=4.0.0a0,!=4.0.0a1->fsspec[http]<=2025.3.0,>=2023.1.0->datasets) (1.20.0)\n",
      "Requirement already satisfied: idna>=2.0 in /opt/anaconda3/envs/tensor_hourse/lib/python3.13/site-packages (from yarl<2.0,>=1.17.0->aiohttp!=4.0.0a0,!=4.0.0a1->fsspec[http]<=2025.3.0,>=2023.1.0->datasets) (3.10)\n",
      "Requirement already satisfied: typing-extensions>=3.7.4.3 in /opt/anaconda3/envs/tensor_hourse/lib/python3.13/site-packages (from huggingface-hub>=0.24.0->datasets) (4.14.0)\n",
      "Requirement already satisfied: hf-xet<2.0.0,>=1.1.2 in /opt/anaconda3/envs/tensor_hourse/lib/python3.13/site-packages (from huggingface-hub>=0.24.0->datasets) (1.1.3)\n",
      "Requirement already satisfied: charset-normalizer<4,>=2 in /opt/anaconda3/envs/tensor_hourse/lib/python3.13/site-packages (from requests>=2.32.2->datasets) (3.4.2)\n",
      "Requirement already satisfied: urllib3<3,>=1.21.1 in /opt/anaconda3/envs/tensor_hourse/lib/python3.13/site-packages (from requests>=2.32.2->datasets) (2.4.0)\n",
      "Requirement already satisfied: certifi>=2017.4.17 in /opt/anaconda3/envs/tensor_hourse/lib/python3.13/site-packages (from requests>=2.32.2->datasets) (2025.4.26)\n",
      "Requirement already satisfied: python-dateutil>=2.8.2 in /opt/anaconda3/envs/tensor_hourse/lib/python3.13/site-packages (from pandas->datasets) (2.9.0.post0)\n",
      "Requirement already satisfied: pytz>=2020.1 in /opt/anaconda3/envs/tensor_hourse/lib/python3.13/site-packages (from pandas->datasets) (2025.2)\n",
      "Requirement already satisfied: tzdata>=2022.7 in /opt/anaconda3/envs/tensor_hourse/lib/python3.13/site-packages (from pandas->datasets) (2025.2)\n",
      "Requirement already satisfied: six>=1.5 in /opt/anaconda3/envs/tensor_hourse/lib/python3.13/site-packages (from python-dateutil>=2.8.2->pandas->datasets) (1.17.0)\n",
      "Note: you may need to restart the kernel to use updated packages.\n",
      "Requirement already satisfied: openai in /opt/anaconda3/envs/tensor_hourse/lib/python3.13/site-packages (1.84.0)\n",
      "Requirement already satisfied: scikit-learn in /opt/anaconda3/envs/tensor_hourse/lib/python3.13/site-packages (1.7.0)\n",
      "Requirement already satisfied: pandas in /opt/anaconda3/envs/tensor_hourse/lib/python3.13/site-packages (2.3.0)\n",
      "Requirement already satisfied: matplotlib in /opt/anaconda3/envs/tensor_hourse/lib/python3.13/site-packages (3.10.3)\n",
      "Requirement already satisfied: seaborn in /opt/anaconda3/envs/tensor_hourse/lib/python3.13/site-packages (0.13.2)\n",
      "Requirement already satisfied: tqdm in /opt/anaconda3/envs/tensor_hourse/lib/python3.13/site-packages (4.67.1)\n",
      "Requirement already satisfied: anyio<5,>=3.5.0 in /opt/anaconda3/envs/tensor_hourse/lib/python3.13/site-packages (from openai) (4.9.0)\n",
      "Requirement already satisfied: distro<2,>=1.7.0 in /opt/anaconda3/envs/tensor_hourse/lib/python3.13/site-packages (from openai) (1.9.0)\n",
      "Requirement already satisfied: httpx<1,>=0.23.0 in /opt/anaconda3/envs/tensor_hourse/lib/python3.13/site-packages (from openai) (0.28.1)\n",
      "Requirement already satisfied: jiter<1,>=0.4.0 in /opt/anaconda3/envs/tensor_hourse/lib/python3.13/site-packages (from openai) (0.10.0)\n",
      "Requirement already satisfied: pydantic<3,>=1.9.0 in /opt/anaconda3/envs/tensor_hourse/lib/python3.13/site-packages (from openai) (2.11.5)\n",
      "Requirement already satisfied: sniffio in /opt/anaconda3/envs/tensor_hourse/lib/python3.13/site-packages (from openai) (1.3.1)\n",
      "Requirement already satisfied: typing-extensions<5,>=4.11 in /opt/anaconda3/envs/tensor_hourse/lib/python3.13/site-packages (from openai) (4.14.0)\n",
      "Requirement already satisfied: idna>=2.8 in /opt/anaconda3/envs/tensor_hourse/lib/python3.13/site-packages (from anyio<5,>=3.5.0->openai) (3.10)\n",
      "Requirement already satisfied: certifi in /opt/anaconda3/envs/tensor_hourse/lib/python3.13/site-packages (from httpx<1,>=0.23.0->openai) (2025.4.26)\n",
      "Requirement already satisfied: httpcore==1.* in /opt/anaconda3/envs/tensor_hourse/lib/python3.13/site-packages (from httpx<1,>=0.23.0->openai) (1.0.9)\n",
      "Requirement already satisfied: h11>=0.16 in /opt/anaconda3/envs/tensor_hourse/lib/python3.13/site-packages (from httpcore==1.*->httpx<1,>=0.23.0->openai) (0.16.0)\n",
      "Requirement already satisfied: annotated-types>=0.6.0 in /opt/anaconda3/envs/tensor_hourse/lib/python3.13/site-packages (from pydantic<3,>=1.9.0->openai) (0.7.0)\n",
      "Requirement already satisfied: pydantic-core==2.33.2 in /opt/anaconda3/envs/tensor_hourse/lib/python3.13/site-packages (from pydantic<3,>=1.9.0->openai) (2.33.2)\n",
      "Requirement already satisfied: typing-inspection>=0.4.0 in /opt/anaconda3/envs/tensor_hourse/lib/python3.13/site-packages (from pydantic<3,>=1.9.0->openai) (0.4.1)\n",
      "Requirement already satisfied: numpy>=1.22.0 in /opt/anaconda3/envs/tensor_hourse/lib/python3.13/site-packages (from scikit-learn) (2.2.6)\n",
      "Requirement already satisfied: scipy>=1.8.0 in /opt/anaconda3/envs/tensor_hourse/lib/python3.13/site-packages (from scikit-learn) (1.15.3)\n",
      "Requirement already satisfied: joblib>=1.2.0 in /opt/anaconda3/envs/tensor_hourse/lib/python3.13/site-packages (from scikit-learn) (1.5.1)\n",
      "Requirement already satisfied: threadpoolctl>=3.1.0 in /opt/anaconda3/envs/tensor_hourse/lib/python3.13/site-packages (from scikit-learn) (3.6.0)\n",
      "Requirement already satisfied: python-dateutil>=2.8.2 in /opt/anaconda3/envs/tensor_hourse/lib/python3.13/site-packages (from pandas) (2.9.0.post0)\n",
      "Requirement already satisfied: pytz>=2020.1 in /opt/anaconda3/envs/tensor_hourse/lib/python3.13/site-packages (from pandas) (2025.2)\n",
      "Requirement already satisfied: tzdata>=2022.7 in /opt/anaconda3/envs/tensor_hourse/lib/python3.13/site-packages (from pandas) (2025.2)\n",
      "Requirement already satisfied: contourpy>=1.0.1 in /opt/anaconda3/envs/tensor_hourse/lib/python3.13/site-packages (from matplotlib) (1.3.2)\n",
      "Requirement already satisfied: cycler>=0.10 in /opt/anaconda3/envs/tensor_hourse/lib/python3.13/site-packages (from matplotlib) (0.12.1)\n",
      "Requirement already satisfied: fonttools>=4.22.0 in /opt/anaconda3/envs/tensor_hourse/lib/python3.13/site-packages (from matplotlib) (4.58.1)\n",
      "Requirement already satisfied: kiwisolver>=1.3.1 in /opt/anaconda3/envs/tensor_hourse/lib/python3.13/site-packages (from matplotlib) (1.4.8)\n",
      "Requirement already satisfied: packaging>=20.0 in /opt/anaconda3/envs/tensor_hourse/lib/python3.13/site-packages (from matplotlib) (25.0)\n",
      "Requirement already satisfied: pillow>=8 in /opt/anaconda3/envs/tensor_hourse/lib/python3.13/site-packages (from matplotlib) (11.2.1)\n",
      "Requirement already satisfied: pyparsing>=2.3.1 in /opt/anaconda3/envs/tensor_hourse/lib/python3.13/site-packages (from matplotlib) (3.2.3)\n",
      "Requirement already satisfied: six>=1.5 in /opt/anaconda3/envs/tensor_hourse/lib/python3.13/site-packages (from python-dateutil>=2.8.2->pandas) (1.17.0)\n",
      "Note: you may need to restart the kernel to use updated packages.\n"
     ]
    }
   ],
   "source": [
    "%pip install -U datasets\n",
    "%pip install openai scikit-learn pandas matplotlib seaborn tqdm"
   ]
  },
  {
   "cell_type": "code",
   "execution_count": 5,
   "id": "407ba931",
   "metadata": {},
   "outputs": [
    {
     "name": "stderr",
     "output_type": "stream",
     "text": [
      "/opt/anaconda3/envs/tensor_hourse/lib/python3.13/site-packages/tqdm/auto.py:21: TqdmWarning: IProgress not found. Please update jupyter and ipywidgets. See https://ipywidgets.readthedocs.io/en/stable/user_install.html\n",
      "  from .autonotebook import tqdm as notebook_tqdm\n"
     ]
    }
   ],
   "source": [
    "from datasets import load_dataset\n",
    "\n",
    "ds = load_dataset(\"nnudee/Thai-Thangkarn-sentence\", split = 'train')\n",
    "ds = ds.class_encode_column(\"label\")\n",
    "ds = ds.train_test_split(test_size=0.2, stratify_by_column=\"label\", seed = 1122)"
   ]
  },
  {
   "cell_type": "code",
   "execution_count": 6,
   "id": "9395a194",
   "metadata": {},
   "outputs": [
    {
     "data": {
      "text/html": [
       "<div>\n",
       "<style scoped>\n",
       "    .dataframe tbody tr th:only-of-type {\n",
       "        vertical-align: middle;\n",
       "    }\n",
       "\n",
       "    .dataframe tbody tr th {\n",
       "        vertical-align: top;\n",
       "    }\n",
       "\n",
       "    .dataframe thead th {\n",
       "        text-align: right;\n",
       "    }\n",
       "</style>\n",
       "<table border=\"1\" class=\"dataframe\">\n",
       "  <thead>\n",
       "    <tr style=\"text-align: right;\">\n",
       "      <th></th>\n",
       "      <th>index</th>\n",
       "      <th>label</th>\n",
       "      <th>contact</th>\n",
       "      <th>category</th>\n",
       "      <th>type</th>\n",
       "      <th>output</th>\n",
       "      <th>reasoning</th>\n",
       "      <th>model</th>\n",
       "    </tr>\n",
       "  </thead>\n",
       "  <tbody>\n",
       "    <tr>\n",
       "      <th>0</th>\n",
       "      <td>0</td>\n",
       "      <td>1</td>\n",
       "      <td>Chat</td>\n",
       "      <td>attendance issues</td>\n",
       "      <td>urgent matter</td>\n",
       "      <td>อาจารย์คะ ขอแจ้งว่าหนูมีเหตุฉุกเฉินที่บ้าน ต้อ...</td>\n",
       "      <td>ข้อความนี้ใช้ภาษาสุภาพแต่เป็นประโยคที่อ่านง่าย...</td>\n",
       "      <td>gpt-4.1-2025-04-14</td>\n",
       "    </tr>\n",
       "    <tr>\n",
       "      <th>1</th>\n",
       "      <td>1</td>\n",
       "      <td>1</td>\n",
       "      <td>Chat</td>\n",
       "      <td>submission notifications</td>\n",
       "      <td>technical problem</td>\n",
       "      <td>อาจารย์คะ ผมมีปัญหากับไฟล์ที่ส่งไปครับ มันเกิด...</td>\n",
       "      <td>This text is semi-formal, using polite and app...</td>\n",
       "      <td>typhoon-v2-70b-instruct</td>\n",
       "    </tr>\n",
       "    <tr>\n",
       "      <th>2</th>\n",
       "      <td>2</td>\n",
       "      <td>4</td>\n",
       "      <td>Email</td>\n",
       "      <td>attendance issues</td>\n",
       "      <td>late arrival</td>\n",
       "      <td>สวัสดีค่ะ อาจารย์ วันนี้ตัวเองอาจจะเข้าชั้นเรี...</td>\n",
       "      <td>This text is informal but polite, using everyd...</td>\n",
       "      <td>typhoon-v2-70b-instruct</td>\n",
       "    </tr>\n",
       "    <tr>\n",
       "      <th>3</th>\n",
       "      <td>3</td>\n",
       "      <td>1</td>\n",
       "      <td>Chat</td>\n",
       "      <td>attendance issues</td>\n",
       "      <td>request leave</td>\n",
       "      <td>สวัสดีค่ะ อาจารย์ วันนี้ผู้จัดทำอาจจะมาไม่ทันเ...</td>\n",
       "      <td>This text is semi-formal, using polite and app...</td>\n",
       "      <td>typhoon-v2-70b-instruct</td>\n",
       "    </tr>\n",
       "    <tr>\n",
       "      <th>4</th>\n",
       "      <td>4</td>\n",
       "      <td>3</td>\n",
       "      <td>Email</td>\n",
       "      <td>attendance issues</td>\n",
       "      <td>absence notification</td>\n",
       "      <td>ข้าพระพุทธเจ้าใคร่ขอกราบเรียนอาจารย์ด้วยความเค...</td>\n",
       "      <td>This text is highly ceremonial and formal, usi...</td>\n",
       "      <td>typhoon-v2-70b-instruct</td>\n",
       "    </tr>\n",
       "    <tr>\n",
       "      <th>...</th>\n",
       "      <td>...</td>\n",
       "      <td>...</td>\n",
       "      <td>...</td>\n",
       "      <td>...</td>\n",
       "      <td>...</td>\n",
       "      <td>...</td>\n",
       "      <td>...</td>\n",
       "      <td>...</td>\n",
       "    </tr>\n",
       "    <tr>\n",
       "      <th>8436</th>\n",
       "      <td>8436</td>\n",
       "      <td>1</td>\n",
       "      <td>Email</td>\n",
       "      <td>attendance issues</td>\n",
       "      <td>absence notification</td>\n",
       "      <td>เรียนอาจารย์   ฉันขอแจ้งลาการเข้าเรียนในวันพรุ...</td>\n",
       "      <td>This text is semi-formal, using polite and app...</td>\n",
       "      <td>typhoon-v2-70b-instruct</td>\n",
       "    </tr>\n",
       "    <tr>\n",
       "      <th>8437</th>\n",
       "      <td>8437</td>\n",
       "      <td>4</td>\n",
       "      <td>Chat</td>\n",
       "      <td>document requests</td>\n",
       "      <td>official letter</td>\n",
       "      <td>ครูคะ หนูขอแบบฟอร์มหน่อยได้ไหมคะ ขอบคุณค่ะ</td>\n",
       "      <td>This text is informal but polite, using everyd...</td>\n",
       "      <td>typhoon-v2-70b-instruct</td>\n",
       "    </tr>\n",
       "    <tr>\n",
       "      <th>8438</th>\n",
       "      <td>8438</td>\n",
       "      <td>3</td>\n",
       "      <td>Email</td>\n",
       "      <td>document requests</td>\n",
       "      <td>recommendation letter</td>\n",
       "      <td>ข้าพระพุทธเจ้าใคร่ขอกราบเรียนศาสตราจารย์ด้วยคว...</td>\n",
       "      <td>This text is highly ceremonial and formal, usi...</td>\n",
       "      <td>typhoon-v2-70b-instruct</td>\n",
       "    </tr>\n",
       "    <tr>\n",
       "      <th>8439</th>\n",
       "      <td>8439</td>\n",
       "      <td>4</td>\n",
       "      <td>Email</td>\n",
       "      <td>submission notifications</td>\n",
       "      <td>delay in assignment</td>\n",
       "      <td>สวัสดีค่ะอาจารย์ ฉันขอแจ้งว่าจะมีการเลื่อนการส...</td>\n",
       "      <td>This text is informal but polite, using everyd...</td>\n",
       "      <td>typhoon-v2-70b-instruct</td>\n",
       "    </tr>\n",
       "    <tr>\n",
       "      <th>8440</th>\n",
       "      <td>8440</td>\n",
       "      <td>2</td>\n",
       "      <td>Email</td>\n",
       "      <td>academic advice</td>\n",
       "      <td>proposal feedback</td>\n",
       "      <td>เรียน อาจารย์ที่เคารพ   กระผมขอขอบพระคุณสำหรับ...</td>\n",
       "      <td>This text is polite and formal, using precise ...</td>\n",
       "      <td>typhoon-v2-70b-instruct</td>\n",
       "    </tr>\n",
       "  </tbody>\n",
       "</table>\n",
       "<p>8441 rows × 8 columns</p>\n",
       "</div>"
      ],
      "text/plain": [
       "      index  label contact                  category                   type  \\\n",
       "0         0      1    Chat         attendance issues          urgent matter   \n",
       "1         1      1    Chat  submission notifications      technical problem   \n",
       "2         2      4   Email         attendance issues           late arrival   \n",
       "3         3      1    Chat         attendance issues          request leave   \n",
       "4         4      3   Email         attendance issues   absence notification   \n",
       "...     ...    ...     ...                       ...                    ...   \n",
       "8436   8436      1   Email         attendance issues   absence notification   \n",
       "8437   8437      4    Chat         document requests        official letter   \n",
       "8438   8438      3   Email         document requests  recommendation letter   \n",
       "8439   8439      4   Email  submission notifications    delay in assignment   \n",
       "8440   8440      2   Email           academic advice      proposal feedback   \n",
       "\n",
       "                                                 output  \\\n",
       "0     อาจารย์คะ ขอแจ้งว่าหนูมีเหตุฉุกเฉินที่บ้าน ต้อ...   \n",
       "1     อาจารย์คะ ผมมีปัญหากับไฟล์ที่ส่งไปครับ มันเกิด...   \n",
       "2     สวัสดีค่ะ อาจารย์ วันนี้ตัวเองอาจจะเข้าชั้นเรี...   \n",
       "3     สวัสดีค่ะ อาจารย์ วันนี้ผู้จัดทำอาจจะมาไม่ทันเ...   \n",
       "4     ข้าพระพุทธเจ้าใคร่ขอกราบเรียนอาจารย์ด้วยความเค...   \n",
       "...                                                 ...   \n",
       "8436  เรียนอาจารย์   ฉันขอแจ้งลาการเข้าเรียนในวันพรุ...   \n",
       "8437         ครูคะ หนูขอแบบฟอร์มหน่อยได้ไหมคะ ขอบคุณค่ะ   \n",
       "8438  ข้าพระพุทธเจ้าใคร่ขอกราบเรียนศาสตราจารย์ด้วยคว...   \n",
       "8439  สวัสดีค่ะอาจารย์ ฉันขอแจ้งว่าจะมีการเลื่อนการส...   \n",
       "8440  เรียน อาจารย์ที่เคารพ   กระผมขอขอบพระคุณสำหรับ...   \n",
       "\n",
       "                                              reasoning  \\\n",
       "0     ข้อความนี้ใช้ภาษาสุภาพแต่เป็นประโยคที่อ่านง่าย...   \n",
       "1     This text is semi-formal, using polite and app...   \n",
       "2     This text is informal but polite, using everyd...   \n",
       "3     This text is semi-formal, using polite and app...   \n",
       "4     This text is highly ceremonial and formal, usi...   \n",
       "...                                                 ...   \n",
       "8436  This text is semi-formal, using polite and app...   \n",
       "8437  This text is informal but polite, using everyd...   \n",
       "8438  This text is highly ceremonial and formal, usi...   \n",
       "8439  This text is informal but polite, using everyd...   \n",
       "8440  This text is polite and formal, using precise ...   \n",
       "\n",
       "                        model  \n",
       "0          gpt-4.1-2025-04-14  \n",
       "1     typhoon-v2-70b-instruct  \n",
       "2     typhoon-v2-70b-instruct  \n",
       "3     typhoon-v2-70b-instruct  \n",
       "4     typhoon-v2-70b-instruct  \n",
       "...                       ...  \n",
       "8436  typhoon-v2-70b-instruct  \n",
       "8437  typhoon-v2-70b-instruct  \n",
       "8438  typhoon-v2-70b-instruct  \n",
       "8439  typhoon-v2-70b-instruct  \n",
       "8440  typhoon-v2-70b-instruct  \n",
       "\n",
       "[8441 rows x 8 columns]"
      ]
     },
     "execution_count": 6,
     "metadata": {},
     "output_type": "execute_result"
    }
   ],
   "source": [
    "ds_pd = ds['test'].to_pandas()\n",
    "ds_pd.reset_index(inplace = True)\n",
    "ds_pd"
   ]
  },
  {
   "cell_type": "code",
   "execution_count": 7,
   "id": "5c0bfb01",
   "metadata": {},
   "outputs": [],
   "source": [
    "import time\n",
    "from openai import OpenAI\n",
    "from sklearn.metrics import classification_report, confusion_matrix, ConfusionMatrixDisplay\n",
    "import pandas as pd\n",
    "import matplotlib.pyplot as plt\n",
    "import seaborn as sns\n",
    "from tqdm import tqdm\n",
    "import os\n",
    "import csv\n",
    "\n",
    "API_KEY = \"sk-D3qTxqNGOsdWVWfjD0dRwDDXxaqjvNRyzy05TiBEzNWtcWyw\\r\\n\" #userdata.get('Typhoon_API')"
   ]
  },
  {
   "cell_type": "code",
   "execution_count": 8,
   "id": "6c798266",
   "metadata": {},
   "outputs": [
    {
     "name": "stdout",
     "output_type": "stream",
     "text": [
      "✅ Found 10 existing results. Resuming...\n"
     ]
    },
    {
     "name": "stderr",
     "output_type": "stream",
     "text": [
      "Processing:   0%|          | 0/8431 [00:00<?, ?it/s]"
     ]
    },
    {
     "name": "stdout",
     "output_type": "stream",
     "text": [
      "Index 10: Predicted label: Formal\n"
     ]
    },
    {
     "name": "stderr",
     "output_type": "stream",
     "text": [
      "Processing:   0%|          | 1/8431 [00:08<20:08:45,  8.60s/it]"
     ]
    },
    {
     "name": "stdout",
     "output_type": "stream",
     "text": [
      "Index 11: Predicted label: Casual\n"
     ]
    },
    {
     "name": "stderr",
     "output_type": "stream",
     "text": [
      "Processing:   0%|          | 2/8431 [00:15<17:18:12,  7.39s/it]"
     ]
    },
    {
     "name": "stdout",
     "output_type": "stream",
     "text": [
      "Index 12: Predicted label: Semi-formal\n"
     ]
    },
    {
     "name": "stderr",
     "output_type": "stream",
     "text": [
      "Processing:   0%|          | 3/8431 [00:21<16:35:34,  7.09s/it]"
     ]
    },
    {
     "name": "stdout",
     "output_type": "stream",
     "text": [
      "Index 13: Predicted label: Ceremonial\n"
     ]
    },
    {
     "name": "stderr",
     "output_type": "stream",
     "text": [
      "Processing:   0%|          | 4/8431 [00:28<16:13:46,  6.93s/it]"
     ]
    },
    {
     "name": "stdout",
     "output_type": "stream",
     "text": [
      "Index 14: Predicted label: Semi-formal\n"
     ]
    },
    {
     "name": "stderr",
     "output_type": "stream",
     "text": [
      "Processing:   0%|          | 5/8431 [00:35<15:54:30,  6.80s/it]"
     ]
    },
    {
     "name": "stdout",
     "output_type": "stream",
     "text": [
      "Index 15: Predicted label: Semi-formal\n"
     ]
    },
    {
     "name": "stderr",
     "output_type": "stream",
     "text": [
      "Processing:   0%|          | 6/8431 [00:41<15:47:48,  6.75s/it]"
     ]
    },
    {
     "name": "stdout",
     "output_type": "stream",
     "text": [
      "Index 16: Predicted label: Ceremonial\n"
     ]
    },
    {
     "name": "stderr",
     "output_type": "stream",
     "text": [
      "Processing:   0%|          | 7/8431 [00:48<15:52:19,  6.78s/it]"
     ]
    },
    {
     "name": "stdout",
     "output_type": "stream",
     "text": [
      "Index 17: Predicted label: Formal\n"
     ]
    },
    {
     "name": "stderr",
     "output_type": "stream",
     "text": [
      "Processing:   0%|          | 7/8431 [00:51<17:18:24,  7.40s/it]"
     ]
    },
    {
     "name": "stdout",
     "output_type": "stream",
     "text": [
      "\n",
      "🛑 Process interrupted by user. Progress has been saved.\n",
      "\n",
      "🎉 Processing complete or script stopped. All progress is saved in results.csv.\n"
     ]
    },
    {
     "name": "stderr",
     "output_type": "stream",
     "text": [
      "\n"
     ]
    }
   ],
   "source": [
    "with open(\"./baseline_system.txt\", \"r\", encoding=\"utf-8\") as f:\n",
    "    system_prompt = f.read().strip()\n",
    "\n",
    "with open(\"./baseline_user.txt\", \"r\", encoding=\"utf-8\") as f:\n",
    "    base_user_prompt = f.read().strip()\n",
    "\n",
    "client = OpenAI(\n",
    "    api_key=API_KEY.strip(),\n",
    "    base_url=\"https://api.opentyphoon.ai/v1\"\n",
    ")\n",
    "\n",
    "def extract_label_from_response(response_text, label_list):\n",
    "    for label in label_list:\n",
    "        if label.lower() in response_text.lower():\n",
    "            return label\n",
    "    return \"UNKNOWN\"\n",
    "\n",
    "def call_typhoon(model_name,user_input, client, system_prompt, base_user_prompt):\n",
    "    full_prompt = f\"{base_user_prompt}\\n\\n{user_input}\"\n",
    "    response = client.chat.completions.create(\n",
    "        model=model_name,\n",
    "        messages=[\n",
    "            {\"role\": \"system\", \"content\": system_prompt},\n",
    "            {\"role\": \"user\", \"content\": full_prompt}\n",
    "        ],\n",
    "        stream=False\n",
    "    )\n",
    "    return response.choices[0].message.content.strip()\n",
    "\n",
    "\n",
    "label_list = [\"Casual\", \"Semi-formal\", \"Formal\", \"Ceremonial\", \"Informal\"]\n",
    "model_name = \"typhoon-v2.1-12b-instruct\"\n",
    "results_filename = \"baseline_results.csv\"\n",
    "processed_indices = set()\n",
    "\n",
    "# Retrieved existing results if available\n",
    "if os.path.exists(results_filename):\n",
    "    existing_results_df = pd.read_csv(results_filename, encoding='utf-8')\n",
    "    if existing_results_df.shape[0] > 0:\n",
    "        processed_indices = set(existing_results_df['index'].astype(int))\n",
    "        print(f\"✅ Found {len(processed_indices)} existing results. Resuming...\")\n",
    "        starting_indice = max(processed_indices) + 1\n",
    "        \n",
    "    else:\n",
    "        print(\"📝 No existing results found. Starting fresh.\")\n",
    "        starting_indice = 0\n",
    "    \n",
    "else:\n",
    "    print(\"📝 No existing results found. Starting fresh.\")\n",
    "    starting_indice = 0\n",
    "\n",
    "data_to_process = ds_pd.loc[starting_indice:]\n",
    "predicted_labels = []\n",
    "indexed_list = []\n",
    "try:\n",
    "    for _, sample in tqdm(data_to_process.iterrows(), total=len(data_to_process), desc=\"Processing\"):\n",
    "        # Make the API call\n",
    "        raw_response = call_typhoon(model_name, sample[\"output\"], client, system_prompt, base_user_prompt)\n",
    "        predicted_label = extract_label_from_response(raw_response, label_list)\n",
    "        print(f\"Index {sample['index']}: Predicted label: {predicted_label}\")\n",
    "        \n",
    "        predicted_labels.append(predicted_label)\n",
    "        indexed_list.append(sample[\"index\"])\n",
    "        \n",
    "        time.sleep(5)\n",
    "\n",
    "except KeyboardInterrupt:\n",
    "    print(\"\\n🛑 Process interrupted by user. Progress has been saved.\")\n",
    "    results_df = pd.DataFrame({\"index\": indexed_list, \"predicted_label\": predicted_labels})\n",
    "    results_df['model_name'] = model_name\n",
    "    if starting_indice == 0:\n",
    "        results_df.to_csv(results_filename, index=False, encoding='utf-8')\n",
    "    else:\n",
    "        pd.concat([existing_results_df,results_df], ignore_index=True).to_csv(results_filename, index=False, encoding='utf-8')\n",
    "    \n",
    "except Exception as e:\n",
    "    print(f\"\\n💥 A critical error occurred: {e}. Progress has been saved. Please check logs.\")\n",
    "    results_df = pd.DataFrame({\"index\": indexed_list, \"predicted_label\": predicted_labels})\n",
    "    results_df['model_name'] = model_name\n",
    "    \n",
    "    if starting_indice == 0:\n",
    "        results_df.to_csv(results_filename, index=False, encoding='utf-8')\n",
    "    else:\n",
    "        pd.concat([existing_results_df,results_df], ignore_index=True).to_csv(results_filename, index=False, encoding='utf-8')\n",
    "\n",
    "print(\"\\n🎉 Processing complete or script stopped. All progress is saved in results.csv.\")"
   ]
  },
  {
   "cell_type": "code",
   "execution_count": null,
   "id": "ad6d1a4a",
   "metadata": {},
   "outputs": [],
   "source": []
  }
 ],
 "metadata": {
  "kernelspec": {
   "display_name": "tensor_hourse",
   "language": "python",
   "name": "python3"
  },
  "language_info": {
   "codemirror_mode": {
    "name": "ipython",
    "version": 3
   },
   "file_extension": ".py",
   "mimetype": "text/x-python",
   "name": "python",
   "nbconvert_exporter": "python",
   "pygments_lexer": "ipython3",
   "version": "3.13.4"
  }
 },
 "nbformat": 4,
 "nbformat_minor": 5
}
